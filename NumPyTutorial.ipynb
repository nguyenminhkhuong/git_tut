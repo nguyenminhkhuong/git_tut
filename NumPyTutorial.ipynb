{
  "nbformat": 4,
  "nbformat_minor": 0,
  "metadata": {
    "colab": {
      "name": "NumPyTutorial.ipynb",
      "provenance": [],
      "collapsed_sections": [],
      "authorship_tag": "ABX9TyNUw+TrmUJM8RSK7r4PgJjZ",
      "include_colab_link": true
    },
    "kernelspec": {
      "name": "python3",
      "display_name": "Python 3"
    }
  },
  "cells": [
    {
      "cell_type": "markdown",
      "metadata": {
        "id": "view-in-github",
        "colab_type": "text"
      },
      "source": [
        "<a href=\"https://colab.research.google.com/github/nguyenminhkhuong/machine_learning/blob/main/NumPyTutorial.ipynb\" target=\"_parent\"><img src=\"https://colab.research.google.com/assets/colab-badge.svg\" alt=\"Open In Colab\"/></a>"
      ]
    },
    {
      "cell_type": "code",
      "metadata": {
        "id": "P-M7UreZvc2M"
      },
      "source": [
        "import numpy as np"
      ],
      "execution_count": null,
      "outputs": []
    },
    {
      "cell_type": "code",
      "metadata": {
        "id": "RF1QNrOtvqEc",
        "outputId": "d0b52976-b7a2-44f4-926b-4ef54197e3f6",
        "colab": {
          "base_uri": "https://localhost:8080/",
          "height": 34
        }
      },
      "source": [
        "one_dimensional_array = np.array([1.2, 2.4, 3.5, 4.7, 6.1, 7.2, 8.3, 9.5])\n",
        "print(one_dimensional_array)"
      ],
      "execution_count": null,
      "outputs": [
        {
          "output_type": "stream",
          "text": [
            "[1.2 2.4 3.5 4.7 6.1 7.2 8.3 9.5]\n"
          ],
          "name": "stdout"
        }
      ]
    },
    {
      "cell_type": "code",
      "metadata": {
        "id": "nQkrXmvIv9Rj",
        "outputId": "efb46752-a5c2-4b87-cb17-c52981b7fcc3",
        "colab": {
          "base_uri": "https://localhost:8080/",
          "height": 68
        }
      },
      "source": [
        "two_dimensional_array = np.array([[6, 5], [11, 7], [4, 8]])\n",
        "print(two_dimensional_array)"
      ],
      "execution_count": null,
      "outputs": [
        {
          "output_type": "stream",
          "text": [
            "[[ 6  5]\n",
            " [11  7]\n",
            " [ 4  8]]\n"
          ],
          "name": "stdout"
        }
      ]
    },
    {
      "cell_type": "code",
      "metadata": {
        "id": "ILcMsmIewfI-",
        "outputId": "24611285-066b-4a68-b523-6d33a37ef23c",
        "colab": {
          "base_uri": "https://localhost:8080/",
          "height": 34
        }
      },
      "source": [
        "random = np.random.randint(low=10, high=101, size=10)\n",
        "print(random)"
      ],
      "execution_count": null,
      "outputs": [
        {
          "output_type": "stream",
          "text": [
            "[56 92 91 94 50 89 13 60 77 99]\n"
          ],
          "name": "stdout"
        }
      ]
    },
    {
      "cell_type": "code",
      "metadata": {
        "id": "0BrScEVfw-CZ",
        "outputId": "0c974b0d-c617-4d07-c401-55c0f2a4319a",
        "colab": {
          "base_uri": "https://localhost:8080/",
          "height": 51
        }
      },
      "source": [
        "random_float = np.random.random(10)\n",
        "print(random_float)"
      ],
      "execution_count": null,
      "outputs": [
        {
          "output_type": "stream",
          "text": [
            "[0.73550512 0.69570613 0.31637639 0.01127685 0.17119098 0.37038171\n",
            " 0.20515553 0.0218304  0.53295598 0.88214199]\n"
          ],
          "name": "stdout"
        }
      ]
    },
    {
      "cell_type": "code",
      "metadata": {
        "id": "FWiRXfD8xn3S",
        "outputId": "5d607b12-d87a-4705-b531-146c6b572f5c",
        "colab": {
          "base_uri": "https://localhost:8080/",
          "height": 34
        }
      },
      "source": [
        "feature = np.arange(6, 21)\n",
        "label = 3 * feature + 4\n",
        "print(label)"
      ],
      "execution_count": null,
      "outputs": [
        {
          "output_type": "stream",
          "text": [
            "[22 25 28 31 34 37 40 43 46 49 52 55 58 61 64]\n"
          ],
          "name": "stdout"
        }
      ]
    },
    {
      "cell_type": "code",
      "metadata": {
        "id": "HlshT7LbyFkv",
        "outputId": "46ba877b-f347-4276-f170-d9cc3a52cea2",
        "colab": {
          "base_uri": "https://localhost:8080/",
          "height": 119
        }
      },
      "source": [
        "noise = np.random.random([15]) * 4 - 2\n",
        "print(noise)\n",
        "label = label + noise\n",
        "print(label)"
      ],
      "execution_count": null,
      "outputs": [
        {
          "output_type": "stream",
          "text": [
            "[ 1.34026305  0.25436889  1.97824749 -1.92873744  0.2748544  -1.15825432\n",
            "  1.85104156  1.10895458 -0.69851311  0.8381243   1.62234023 -0.93195693\n",
            "  1.28593326 -1.09764163 -1.53543933]\n",
            "[24.33186343 26.88454521 30.25561797 29.7963846  34.48439335 35.14386975\n",
            " 41.10012693 42.82131574 45.05199546 48.0300358  53.11771401 53.46163064\n",
            " 57.53394238 58.3573197  63.28322917]\n"
          ],
          "name": "stdout"
        }
      ]
    }
  ]
}