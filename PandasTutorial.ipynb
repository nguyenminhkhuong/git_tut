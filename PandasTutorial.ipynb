{
  "nbformat": 4,
  "nbformat_minor": 0,
  "metadata": {
    "colab": {
      "name": "PandasTutorial.ipynb",
      "provenance": [],
      "authorship_tag": "ABX9TyPg4dBQ4SsHd9yR6EkhYmD7",
      "include_colab_link": true
    },
    "kernelspec": {
      "name": "python3",
      "display_name": "Python 3"
    }
  },
  "cells": [
    {
      "cell_type": "markdown",
      "metadata": {
        "id": "view-in-github",
        "colab_type": "text"
      },
      "source": [
        "<a href=\"https://colab.research.google.com/github/nguyenminhkhuong/git_tut/blob/main/PandasTutorial.ipynb\" target=\"_parent\"><img src=\"https://colab.research.google.com/assets/colab-badge.svg\" alt=\"Open In Colab\"/></a>"
      ]
    },
    {
      "cell_type": "code",
      "metadata": {
        "id": "Ezou32GHabfY"
      },
      "source": [
        "import numpy as np\n",
        "import pandas as pd\n"
      ],
      "execution_count": 1,
      "outputs": []
    },
    {
      "cell_type": "code",
      "metadata": {
        "id": "Zl1YwTJUaogA",
        "outputId": "2a51a4fb-8b63-4cab-ebb6-93c65e55f92b",
        "colab": {
          "base_uri": "https://localhost:8080/"
        }
      },
      "source": [
        "# Create and populate a 5x2 NumPy array.\n",
        "my_data = np.array([[0, 3], [10, 7], [20, 9], [30, 14], [40, 15]])\n",
        "\n",
        "# Create a Python list that holds the names of the two columns.\n",
        "my_column_names = ['temperature', 'activity']\n",
        "\n",
        "# Create a DataFrame.\n",
        "my_dataframe = pd.DataFrame(data=my_data, columns=my_column_names)\n",
        "\n",
        "# Print the entire DataFrame\n",
        "print(my_dataframe)"
      ],
      "execution_count": 2,
      "outputs": [
        {
          "output_type": "stream",
          "text": [
            "   temperature  activity\n",
            "0            0         3\n",
            "1           10         7\n",
            "2           20         9\n",
            "3           30        14\n",
            "4           40        15\n"
          ],
          "name": "stdout"
        }
      ]
    },
    {
      "cell_type": "code",
      "metadata": {
        "id": "aBbr9KEwbgnu",
        "outputId": "a483f374-e36f-4ca6-cd3a-e785d95e074e",
        "colab": {
          "base_uri": "https://localhost:8080/"
        }
      },
      "source": [
        "# Create a new column named adjusted.\n",
        "my_dataframe[\"adjusted\"] = my_dataframe[\"activity\"] + 2\n",
        "\n",
        "# Print the entire DataFrame\n",
        "print(my_dataframe)"
      ],
      "execution_count": 3,
      "outputs": [
        {
          "output_type": "stream",
          "text": [
            "   temperature  activity  adjusted\n",
            "0            0         3         5\n",
            "1           10         7         9\n",
            "2           20         9        11\n",
            "3           30        14        16\n",
            "4           40        15        17\n"
          ],
          "name": "stdout"
        }
      ]
    },
    {
      "cell_type": "code",
      "metadata": {
        "id": "CFata3qocG7i",
        "outputId": "c5285183-5831-4829-9281-c8b6346dc8c7",
        "colab": {
          "base_uri": "https://localhost:8080/"
        }
      },
      "source": [
        "print(\"Rows #0, #1, and #2:\")\n",
        "print(my_dataframe.head(3), '\\n')\n",
        "\n",
        "print(\"Row #2:\")\n",
        "print(my_dataframe.iloc[[2]], '\\n')\n",
        "\n",
        "print(\"Rows #1, #2, and #3:\")\n",
        "print(my_dataframe[1:4], '\\n')\n",
        "\n",
        "print(\"Column 'temperature':\")\n",
        "print(my_dataframe['temperature'])"
      ],
      "execution_count": 4,
      "outputs": [
        {
          "output_type": "stream",
          "text": [
            "Rows #0, #1, and #2:\n",
            "   temperature  activity  adjusted\n",
            "0            0         3         5\n",
            "1           10         7         9\n",
            "2           20         9        11 \n",
            "\n",
            "Row #2:\n",
            "   temperature  activity  adjusted\n",
            "2           20         9        11 \n",
            "\n",
            "Rows #1, #2, and #3:\n",
            "   temperature  activity  adjusted\n",
            "1           10         7         9\n",
            "2           20         9        11\n",
            "3           30        14        16 \n",
            "\n",
            "Column 'temperature':\n",
            "0     0\n",
            "1    10\n",
            "2    20\n",
            "3    30\n",
            "4    40\n",
            "Name: temperature, dtype: int64\n"
          ],
          "name": "stdout"
        }
      ]
    },
    {
      "cell_type": "code",
      "metadata": {
        "id": "0V1r3-81cacj",
        "outputId": "9207d788-ad38-4ed5-e6f3-738bf0222495",
        "colab": {
          "base_uri": "https://localhost:8080/"
        }
      },
      "source": [
        "ka_data = np.random.randint(low=0, high=101, size=(3, 4))\n",
        "\n",
        "ka_column_names = ['Eleanor', 'Chidi', 'Tahani', 'Jason']\n",
        "\n",
        "ka_dataframe = pd.DataFrame(data=ka_data, columns=ka_column_names)\n",
        "\n",
        "print(ka_dataframe)\n",
        "print(ka_dataframe['Eleanor'].iloc[[1]])"
      ],
      "execution_count": 9,
      "outputs": [
        {
          "output_type": "stream",
          "text": [
            "   Eleanor  Chidi  Tahani  Jason\n",
            "0       49     83      48     36\n",
            "1       61     96      58     77\n",
            "2       72     47      38     16\n",
            "1    61\n",
            "Name: Eleanor, dtype: int64\n"
          ],
          "name": "stdout"
        }
      ]
    },
    {
      "cell_type": "code",
      "metadata": {
        "id": "u0Ph2sJYhgtR",
        "outputId": "c1941631-53e5-4662-ee63-75f122f10d13",
        "colab": {
          "base_uri": "https://localhost:8080/"
        }
      },
      "source": [
        "ka_dataframe['Janet'] = ka_dataframe['Tahani'] + ka_dataframe['Jason']\n",
        "print(ka_dataframe)"
      ],
      "execution_count": 10,
      "outputs": [
        {
          "output_type": "stream",
          "text": [
            "   Eleanor  Chidi  Tahani  Jason  Janet\n",
            "0       49     83      48     36     84\n",
            "1       61     96      58     77    135\n",
            "2       72     47      38     16     54\n"
          ],
          "name": "stdout"
        }
      ]
    },
    {
      "cell_type": "code",
      "metadata": {
        "id": "HszhzIthiRHY",
        "outputId": "68291782-f8d6-43b5-cb81-a3f2cf275a1b",
        "colab": {
          "base_uri": "https://localhost:8080/"
        }
      },
      "source": [
        "reference_to_df = ka_dataframe\n",
        "print(reference_to_df)"
      ],
      "execution_count": 11,
      "outputs": [
        {
          "output_type": "stream",
          "text": [
            "   Eleanor  Chidi  Tahani  Jason  Janet\n",
            "0       49     83      48     36     84\n",
            "1       61     96      58     77    135\n",
            "2       72     47      38     16     54\n"
          ],
          "name": "stdout"
        }
      ]
    },
    {
      "cell_type": "code",
      "metadata": {
        "id": "IUjFZqIHifuz",
        "outputId": "aa6e862f-1a4c-45f5-8121-05eb6073fb3b",
        "colab": {
          "base_uri": "https://localhost:8080/"
        }
      },
      "source": [
        "ka_dataframe.at[1, 'Jason'] = ka_dataframe['Jason'][1] + 5\n",
        "\n",
        "print(ka_dataframe['Jason'][1])\n",
        "print(reference_to_df['Jason'][1])"
      ],
      "execution_count": 12,
      "outputs": [
        {
          "output_type": "stream",
          "text": [
            "82\n",
            "82\n"
          ],
          "name": "stdout"
        }
      ]
    },
    {
      "cell_type": "code",
      "metadata": {
        "id": "qClZKqSri14s",
        "outputId": "7ac5c17d-cc64-4608-d9be-b607c5f1f4cb",
        "colab": {
          "base_uri": "https://localhost:8080/"
        }
      },
      "source": [
        "copy_df = ka_dataframe.copy()\n",
        "\n",
        "ka_dataframe.at[1, 'Jason'] = ka_dataframe['Jason'][1] + 5\n",
        "\n",
        "print(ka_dataframe['Jason'][1])\n",
        "print(reference_to_df['Jason'][1])\n",
        "print(copy_df['Jason'][1])"
      ],
      "execution_count": 13,
      "outputs": [
        {
          "output_type": "stream",
          "text": [
            "87\n",
            "87\n",
            "82\n"
          ],
          "name": "stdout"
        }
      ]
    }
  ]
}